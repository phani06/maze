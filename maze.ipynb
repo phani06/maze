{
  "nbformat": 4,
  "nbformat_minor": 0,
  "metadata": {
    "colab": {
      "name": "maze.ipynb",
      "provenance": [],
      "authorship_tag": "ABX9TyNBnjDp3JxaccM31EXZHd9T",
      "include_colab_link": true
    },
    "kernelspec": {
      "name": "python3",
      "display_name": "Python 3"
    },
    "language_info": {
      "name": "python"
    }
  },
  "cells": [
    {
      "cell_type": "markdown",
      "metadata": {
        "id": "view-in-github",
        "colab_type": "text"
      },
      "source": [
        "<a href=\"https://colab.research.google.com/github/phani06/maze/blob/main/maze.ipynb\" target=\"_parent\"><img src=\"https://colab.research.google.com/assets/colab-badge.svg\" alt=\"Open In Colab\"/></a>"
      ]
    },
    {
      "cell_type": "code",
      "source": [
        "!pip install simpleai"
      ],
      "metadata": {
        "colab": {
          "base_uri": "https://localhost:8080/"
        },
        "id": "_g2WvHUYP01h",
        "outputId": "ac9ff3cf-b440-4276-9464-3c8c06dfec58"
      },
      "execution_count": null,
      "outputs": [
        {
          "output_type": "stream",
          "name": "stdout",
          "text": [
            "Collecting simpleai\n",
            "  Downloading simpleai-0.8.3.tar.gz (94 kB)\n",
            "\u001b[?25l\r\u001b[K     |███▌                            | 10 kB 21.9 MB/s eta 0:00:01\r\u001b[K     |███████                         | 20 kB 25.0 MB/s eta 0:00:01\r\u001b[K     |██████████▍                     | 30 kB 20.3 MB/s eta 0:00:01\r\u001b[K     |█████████████▉                  | 40 kB 13.1 MB/s eta 0:00:01\r\u001b[K     |█████████████████▍              | 51 kB 8.8 MB/s eta 0:00:01\r\u001b[K     |████████████████████▉           | 61 kB 7.7 MB/s eta 0:00:01\r\u001b[K     |████████████████████████▎       | 71 kB 8.2 MB/s eta 0:00:01\r\u001b[K     |███████████████████████████▊    | 81 kB 9.1 MB/s eta 0:00:01\r\u001b[K     |███████████████████████████████▎| 92 kB 9.0 MB/s eta 0:00:01\r\u001b[K     |████████████████████████████████| 94 kB 2.4 MB/s \n",
            "\u001b[?25hBuilding wheels for collected packages: simpleai\n",
            "  Building wheel for simpleai (setup.py) ... \u001b[?25l\u001b[?25hdone\n",
            "  Created wheel for simpleai: filename=simpleai-0.8.3-py3-none-any.whl size=101000 sha256=f8a3f42583bd37a5a39d2957c70323560bc09b91ff5708290166f097fab9d075\n",
            "  Stored in directory: /root/.cache/pip/wheels/9a/d1/3b/ef0fc9aee7197e62482fc629181119aaacb684225057516de3\n",
            "Successfully built simpleai\n",
            "Installing collected packages: simpleai\n",
            "Successfully installed simpleai-0.8.3\n"
          ]
        }
      ]
    },
    {
      "cell_type": "code",
      "source": [
        "import math\n",
        "from simpleai.search import SearchProblem, astar\n",
        "\n",
        "# Class containing the methods to solve the maze\n",
        "class MazeSolver(SearchProblem):\n",
        "    # Initialize the class \n",
        "    def __init__(self, board):\n",
        "        self.board = board\n",
        "        self.goal = (0, 0)\n",
        "\n",
        "        for y in range(len(self.board)):\n",
        "            for x in range(len(self.board[y])):\n",
        "                if self.board[y][x].lower() == \"o\":\n",
        "                    self.initial = (x, y)\n",
        "                elif self.board[y][x].lower() == \"x\":\n",
        "                    self.goal = (x, y)\n",
        "\n",
        "        super(MazeSolver, self).__init__(initial_state=self.initial)\n",
        "\n",
        "    # Define the method that takes actions\n",
        "    # to arrive at the solution\n",
        "    def actions(self, state):\n",
        "        actions = []\n",
        "        for action in COSTS.keys():\n",
        "            newx, newy = self.result(state, action)\n",
        "            if self.board[newy][newx] != \"#\":\n",
        "                actions.append(action)\n",
        "\n",
        "        return actions\n",
        "\n",
        "    # Update the state based on the action\n",
        "    def result(self, state, action):\n",
        "        x, y = state\n",
        "\n",
        "        if action.count(\"up\"):\n",
        "            y -= 1\n",
        "        if action.count(\"down\"):\n",
        "            y += 1\n",
        "        if action.count(\"left\"):\n",
        "            x -= 1\n",
        "        if action.count(\"right\"):\n",
        "            x += 1\n",
        "\n",
        "        new_state = (x, y)\n",
        "\n",
        "        return new_state\n",
        "\n",
        "    # Check if we have reached the goal\n",
        "    def is_goal(self, state):\n",
        "        return state == self.goal\n",
        "\n",
        "    # Compute the cost of taking an action\n",
        "    def cost(self, state, action, state2):\n",
        "        return COSTS[action]\n",
        "\n",
        "    # Heuristic that we use to arrive at the solution\n",
        "    def heuristic(self, state):\n",
        "        x, y = state\n",
        "        gx, gy = self.goal\n",
        "\n",
        "        return math.sqrt((x - gx) ** 2 + (y - gy) ** 2)\n",
        "\n",
        "if __name__ == \"__main__\":\n",
        "    # Define the map\n",
        "    MAP = \"\"\"\n",
        "    ##############################\n",
        "    #         #              #   #\n",
        "    # ####    ########       #   #\n",
        "    #  o #    #              #   #\n",
        "    #    ###     #####  ######   #\n",
        "    #      #   ###   #           #\n",
        "    #      #     #   #  #  #   ###\n",
        "    #     #####    #    #  # x   #\n",
        "    #              #       #     #\n",
        "    ##############################\n",
        "    \"\"\"\n",
        "\n",
        "    # Convert map to a list\n",
        "    print(MAP)\n",
        "    MAP = [list(x) for x in MAP.split(\"\\n\") if x]\n",
        "\n",
        "    # Define cost of moving around the map\n",
        "    cost_regular = 1.0\n",
        "    cost_diagonal = 1.7\n",
        "\n",
        "    # Create the cost dictionary\n",
        "    COSTS = {\n",
        "        \"up\": cost_regular,\n",
        "        \"down\": cost_regular,\n",
        "        \"left\": cost_regular,\n",
        "        \"right\": cost_regular,\n",
        "        \"up left\": cost_diagonal,\n",
        "        \"up right\": cost_diagonal,\n",
        "        \"down left\": cost_diagonal,\n",
        "        \"down right\": cost_diagonal,\n",
        "    }\n",
        "\n",
        "    # create maze solver object\n",
        "    problem = MazeSolver(MAP)\n",
        "\n",
        "    # run the solver\n",
        "    result = astar(problem, graph_search=True)\n",
        "\n",
        "    # Extract the path\n",
        "    path = [x[1] for x in result.path()]\n",
        "\n",
        "    # Print the result\n",
        "    print()\n",
        "    for y in range(len(MAP)):\n",
        "        for x in range(len(MAP[y])):\n",
        "            if (x, y) == problem.initial:\n",
        "                print('o', end='')\n",
        "            elif (x, y) == problem.goal:\n",
        "                print('x', end='')\n",
        "            elif (x, y) in path:\n",
        "                print('·', end='')\n",
        "            else:\n",
        "                print(MAP[y][x], end='')\n",
        "\n",
        "        print()"
      ],
      "metadata": {
        "colab": {
          "base_uri": "https://localhost:8080/"
        },
        "id": "tQTuxt5OP5ki",
        "outputId": "e76ed54a-1255-4004-c03f-8da296fc1afd"
      },
      "execution_count": null,
      "outputs": [
        {
          "output_type": "stream",
          "name": "stdout",
          "text": [
            "\n",
            "    ##############################\n",
            "    #         #              #   #\n",
            "    # ####    ########       #   #\n",
            "    #  o #    #              #   #\n",
            "    #    ###     #####  ######   #\n",
            "    #      #   ###   #           #\n",
            "    #      #     #   #  #  #   ###\n",
            "    #     #####    #    #  # x   #\n",
            "    #              #       #     #\n",
            "    ##############################\n",
            "    \n",
            "\n",
            "    ##############################\n",
            "    #         #              #   #\n",
            "    # ####    ########       #   #\n",
            "    #  o #    #              #   #\n",
            "    #   ·###     #####  ######   #\n",
            "    #    · #   ###   #  ····     #\n",
            "    #    · #     # ··# ·#  #·  ###\n",
            "    #    ·#####   ·# ·· #  # x   #\n",
            "    #     ········ #       #     #\n",
            "    ##############################\n",
            "    \n"
          ]
        }
      ]
    }
  ]
}